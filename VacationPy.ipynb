{
 "cells": [
  {
   "cell_type": "markdown",
   "metadata": {},
   "source": [
    "# VacationPy\n",
    "----\n",
    "\n",
    "#### Note\n",
    "* Instructions have been included for each segment. You do not have to follow them exactly, but they are included to help you think through the steps."
   ]
  },
  {
   "cell_type": "code",
   "execution_count": 2,
   "metadata": {},
   "outputs": [],
   "source": [
    "# Dependencies and Setup\n",
    "import matplotlib.pyplot as plt\n",
    "import pandas as pd\n",
    "import numpy as np\n",
    "import requests\n",
    "import gmaps\n",
    "import os\n",
    "import gmaps\n",
    "import json\n",
    "from api_keys import g_key\n",
    "\n",
    "# Import API key\n",
    "\n",
    "gmaps.configure(api_key=g_key)"
   ]
  },
  {
   "cell_type": "markdown",
   "metadata": {},
   "source": [
    "### Store Part I results into DataFrame\n",
    "* Load the csv exported in Part I to a DataFrame"
   ]
  },
  {
   "cell_type": "code",
   "execution_count": 6,
   "metadata": {},
   "outputs": [
    {
     "data": {
      "text/html": [
       "<div>\n",
       "<style scoped>\n",
       "    .dataframe tbody tr th:only-of-type {\n",
       "        vertical-align: middle;\n",
       "    }\n",
       "\n",
       "    .dataframe tbody tr th {\n",
       "        vertical-align: top;\n",
       "    }\n",
       "\n",
       "    .dataframe thead th {\n",
       "        text-align: right;\n",
       "    }\n",
       "</style>\n",
       "<table border=\"1\" class=\"dataframe\">\n",
       "  <thead>\n",
       "    <tr style=\"text-align: right;\">\n",
       "      <th></th>\n",
       "      <th>City</th>\n",
       "      <th>Cloudiness</th>\n",
       "      <th>Country</th>\n",
       "      <th>Date</th>\n",
       "      <th>Humidity</th>\n",
       "      <th>Latitude</th>\n",
       "      <th>Longitude</th>\n",
       "      <th>Maximum Temperature</th>\n",
       "      <th>Wind Speed</th>\n",
       "    </tr>\n",
       "  </thead>\n",
       "  <tbody>\n",
       "    <tr>\n",
       "      <td>0</td>\n",
       "      <td>Aksha</td>\n",
       "      <td>50</td>\n",
       "      <td>RU</td>\n",
       "      <td>1584162325</td>\n",
       "      <td>60</td>\n",
       "      <td>50.28</td>\n",
       "      <td>113.29</td>\n",
       "      <td>-0.17</td>\n",
       "      <td>7.33</td>\n",
       "    </tr>\n",
       "    <tr>\n",
       "      <td>1</td>\n",
       "      <td>Kamenka</td>\n",
       "      <td>100</td>\n",
       "      <td>RU</td>\n",
       "      <td>1584162269</td>\n",
       "      <td>93</td>\n",
       "      <td>51.32</td>\n",
       "      <td>42.77</td>\n",
       "      <td>1.11</td>\n",
       "      <td>1.79</td>\n",
       "    </tr>\n",
       "    <tr>\n",
       "      <td>2</td>\n",
       "      <td>Rosetown</td>\n",
       "      <td>100</td>\n",
       "      <td>CA</td>\n",
       "      <td>1584162326</td>\n",
       "      <td>65</td>\n",
       "      <td>51.55</td>\n",
       "      <td>-108.00</td>\n",
       "      <td>-15.00</td>\n",
       "      <td>5.36</td>\n",
       "    </tr>\n",
       "    <tr>\n",
       "      <td>3</td>\n",
       "      <td>Leopold</td>\n",
       "      <td>90</td>\n",
       "      <td>AU</td>\n",
       "      <td>1584162326</td>\n",
       "      <td>67</td>\n",
       "      <td>-38.18</td>\n",
       "      <td>144.47</td>\n",
       "      <td>17.78</td>\n",
       "      <td>9.80</td>\n",
       "    </tr>\n",
       "    <tr>\n",
       "      <td>4</td>\n",
       "      <td>Akdepe</td>\n",
       "      <td>6</td>\n",
       "      <td>TM</td>\n",
       "      <td>1584162326</td>\n",
       "      <td>43</td>\n",
       "      <td>42.06</td>\n",
       "      <td>59.38</td>\n",
       "      <td>11.00</td>\n",
       "      <td>4.10</td>\n",
       "    </tr>\n",
       "  </tbody>\n",
       "</table>\n",
       "</div>"
      ],
      "text/plain": [
       "       City  Cloudiness Country        Date  Humidity  Latitude  Longitude  \\\n",
       "0     Aksha          50      RU  1584162325        60     50.28     113.29   \n",
       "1   Kamenka         100      RU  1584162269        93     51.32      42.77   \n",
       "2  Rosetown         100      CA  1584162326        65     51.55    -108.00   \n",
       "3   Leopold          90      AU  1584162326        67    -38.18     144.47   \n",
       "4    Akdepe           6      TM  1584162326        43     42.06      59.38   \n",
       "\n",
       "   Maximum Temperature  Wind Speed  \n",
       "0                -0.17        7.33  \n",
       "1                 1.11        1.79  \n",
       "2               -15.00        5.36  \n",
       "3                17.78        9.80  \n",
       "4                11.00        4.10  "
      ]
     },
     "execution_count": 6,
     "metadata": {},
     "output_type": "execute_result"
    }
   ],
   "source": [
    "city_data = \"cities.csv\"\n",
    "city_data_df = pd.read_csv(city_data, encoding=\"ISO-8859-1\")\n",
    "\n",
    "city_data_df.head()"
   ]
  },
  {
   "cell_type": "markdown",
   "metadata": {},
   "source": [
    "### Humidity Heatmap\n",
    "* Configure gmaps.\n",
    "* Use the Lat and Lng as locations and Humidity as the weight.\n",
    "* Add Heatmap layer to map."
   ]
  },
  {
   "cell_type": "code",
   "execution_count": 7,
   "metadata": {},
   "outputs": [
    {
     "data": {
      "text/plain": [
       "0      60\n",
       "1      93\n",
       "2      65\n",
       "3      67\n",
       "4      43\n",
       "       ..\n",
       "565    19\n",
       "566    29\n",
       "567    94\n",
       "568    93\n",
       "569    79\n",
       "Name: Humidity, Length: 565, dtype: int64"
      ]
     },
     "execution_count": 7,
     "metadata": {},
     "output_type": "execute_result"
    }
   ],
   "source": [
    "city_data_df = city_data_df.dropna()\n",
    "\n",
    "locations = city_data_df[[\"Latitude\",\"Longitude\"]]\n",
    "# Fill NaN values and convert to float\n",
    "weight = city_data_df[\"Humidity\"]\n",
    "weight"
   ]
  },
  {
   "cell_type": "code",
   "execution_count": 8,
   "metadata": {
    "scrolled": true
   },
   "outputs": [
    {
     "data": {
      "application/vnd.jupyter.widget-view+json": {
       "model_id": "fb45623493e64e9982c14435902f30c9",
       "version_major": 2,
       "version_minor": 0
      },
      "text/plain": [
       "Figure(layout=FigureLayout(height='420px'))"
      ]
     },
     "metadata": {},
     "output_type": "display_data"
    }
   ],
   "source": [
    "gmaps.configure(api_key=g_key)\n",
    "\n",
    "#Create a list containing coordinates\n",
    "# Plot Heatmap\n",
    "fig = gmaps.figure(center=(32,14),  zoom_level=1)\n",
    "weight\n",
    "# Create heat layer\n",
    "heat_layer = gmaps.heatmap_layer(locations, weight, \n",
    "                                 dissipating=False, max_intensity=200,\n",
    "                                 point_radius= 2)\n",
    "\n",
    "# Add layer\n",
    "fig.add_layer(heat_layer)\n",
    "fig\n",
    "\n"
   ]
  },
  {
   "cell_type": "markdown",
   "metadata": {},
   "source": [
    "### Create new DataFrame fitting weather criteria\n",
    "* Narrow down the cities to fit weather conditions.\n",
    "* Drop any rows will null values."
   ]
  },
  {
   "cell_type": "code",
   "execution_count": 9,
   "metadata": {},
   "outputs": [],
   "source": [
    "#Narrow down the DataFrame to find your ideal weather condition. For example:\n",
    "\n",
    "# A max temperature lower than 80 degrees but higher than 70.\n",
    "\n",
    "# Wind speed less than 10 mph.\n",
    "\n",
    "# Zero cloudiness.\n",
    "    \n",
    "hotel_df = city_data_df[(city_data_df[\"Maximum Temperature\"] < 27) & (city_data_df[\"Maximum Temperature\"] > 21) & (city_data_df[\"Wind Speed\"] < 10) & (city_data_df[\"Cloudiness\"] == 0)]\n"
   ]
  },
  {
   "cell_type": "markdown",
   "metadata": {},
   "source": [
    "### Hotel Map\n",
    "* Store into variable named `hotel_df`.\n",
    "* Add a \"Hotel Name\" column to the DataFrame.\n",
    "* Set parameters to search for hotels with 5000 meters.\n",
    "* Hit the Google Places API for each city's coordinates.\n",
    "* Store the first Hotel result into the DataFrame.\n",
    "* Plot markers on top of the heatmap."
   ]
  },
  {
   "cell_type": "code",
   "execution_count": 12,
   "metadata": {},
   "outputs": [],
   "source": [
    "hotel_df.loc[:,\"Hotel Name\"] = \"\""
   ]
  },
  {
   "cell_type": "code",
   "execution_count": 11,
   "metadata": {},
   "outputs": [
    {
     "name": "stdout",
     "output_type": "stream",
     "text": [
      "Missing field/result... skipping.\n"
     ]
    },
    {
     "data": {
      "text/html": [
       "<div>\n",
       "<style scoped>\n",
       "    .dataframe tbody tr th:only-of-type {\n",
       "        vertical-align: middle;\n",
       "    }\n",
       "\n",
       "    .dataframe tbody tr th {\n",
       "        vertical-align: top;\n",
       "    }\n",
       "\n",
       "    .dataframe thead th {\n",
       "        text-align: right;\n",
       "    }\n",
       "</style>\n",
       "<table border=\"1\" class=\"dataframe\">\n",
       "  <thead>\n",
       "    <tr style=\"text-align: right;\">\n",
       "      <th></th>\n",
       "      <th>City</th>\n",
       "      <th>Cloudiness</th>\n",
       "      <th>Country</th>\n",
       "      <th>Date</th>\n",
       "      <th>Humidity</th>\n",
       "      <th>Latitude</th>\n",
       "      <th>Longitude</th>\n",
       "      <th>Maximum Temperature</th>\n",
       "      <th>Wind Speed</th>\n",
       "      <th>Hotel Name</th>\n",
       "    </tr>\n",
       "  </thead>\n",
       "  <tbody>\n",
       "    <tr>\n",
       "      <td>33</td>\n",
       "      <td>Cidreira</td>\n",
       "      <td>0</td>\n",
       "      <td>BR</td>\n",
       "      <td>1584162219</td>\n",
       "      <td>89</td>\n",
       "      <td>-30.18</td>\n",
       "      <td>-50.21</td>\n",
       "      <td>23.82</td>\n",
       "      <td>9.25</td>\n",
       "      <td>OYO Hotel Pacífico</td>\n",
       "    </tr>\n",
       "    <tr>\n",
       "      <td>59</td>\n",
       "      <td>Chui</td>\n",
       "      <td>0</td>\n",
       "      <td>UY</td>\n",
       "      <td>1584162265</td>\n",
       "      <td>88</td>\n",
       "      <td>-33.70</td>\n",
       "      <td>-53.46</td>\n",
       "      <td>21.24</td>\n",
       "      <td>4.06</td>\n",
       "      <td>Turis Firper Hotel</td>\n",
       "    </tr>\n",
       "    <tr>\n",
       "      <td>65</td>\n",
       "      <td>Arraial do Cabo</td>\n",
       "      <td>0</td>\n",
       "      <td>BR</td>\n",
       "      <td>1584162244</td>\n",
       "      <td>85</td>\n",
       "      <td>-22.97</td>\n",
       "      <td>-42.03</td>\n",
       "      <td>25.05</td>\n",
       "      <td>4.46</td>\n",
       "      <td>Paradiso Peró Praia Hotel</td>\n",
       "    </tr>\n",
       "    <tr>\n",
       "      <td>71</td>\n",
       "      <td>Kaya</td>\n",
       "      <td>0</td>\n",
       "      <td>BF</td>\n",
       "      <td>1584162335</td>\n",
       "      <td>12</td>\n",
       "      <td>13.09</td>\n",
       "      <td>-1.08</td>\n",
       "      <td>23.19</td>\n",
       "      <td>4.51</td>\n",
       "      <td>Pacific Hotel Kaya</td>\n",
       "    </tr>\n",
       "    <tr>\n",
       "      <td>95</td>\n",
       "      <td>San Patricio</td>\n",
       "      <td>0</td>\n",
       "      <td>MX</td>\n",
       "      <td>1584162242</td>\n",
       "      <td>85</td>\n",
       "      <td>19.22</td>\n",
       "      <td>-104.70</td>\n",
       "      <td>23.90</td>\n",
       "      <td>2.43</td>\n",
       "      <td>Las Hadas by Brisas Manzanillo</td>\n",
       "    </tr>\n",
       "  </tbody>\n",
       "</table>\n",
       "</div>"
      ],
      "text/plain": [
       "               City  Cloudiness Country        Date  Humidity  Latitude  \\\n",
       "33         Cidreira           0      BR  1584162219        89    -30.18   \n",
       "59             Chui           0      UY  1584162265        88    -33.70   \n",
       "65  Arraial do Cabo           0      BR  1584162244        85    -22.97   \n",
       "71             Kaya           0      BF  1584162335        12     13.09   \n",
       "95     San Patricio           0      MX  1584162242        85     19.22   \n",
       "\n",
       "    Longitude  Maximum Temperature  Wind Speed                      Hotel Name  \n",
       "33     -50.21                23.82        9.25              OYO Hotel Pacífico  \n",
       "59     -53.46                21.24        4.06              Turis Firper Hotel  \n",
       "65     -42.03                25.05        4.46       Paradiso Peró Praia Hotel  \n",
       "71      -1.08                23.19        4.51              Pacific Hotel Kaya  \n",
       "95    -104.70                23.90        2.43  Las Hadas by Brisas Manzanillo  "
      ]
     },
     "execution_count": 11,
     "metadata": {},
     "output_type": "execute_result"
    }
   ],
   "source": [
    "\n",
    "\n",
    "# params dictionary to update each iteration\n",
    "params = {\n",
    "    \"radius\": 50000,\n",
    "    \"types\": \"hotel\",\n",
    "    \"keyword\": \"hotel\",\n",
    "    \"key\": g_key\n",
    "}\n",
    "\n",
    "# Use the lat/lng we recovered to identify hotels\n",
    "for index, row in hotel_df.iterrows():\n",
    "    # get lat, lng from df\n",
    "    lat = row[\"Latitude\"]\n",
    "    lng = row[\"Longitude\"]\n",
    "\n",
    "    # change location each iteration while leaving original params in place\n",
    "    params[\"location\"] = f\"{lat},{lng}\"\n",
    "\n",
    "    # Use the search term: \"hotel\" and our lat/lng\n",
    "    base_url = \"https://maps.googleapis.com/maps/api/place/nearbysearch/json\"\n",
    "\n",
    "    # make request and print url\n",
    "    name_address = requests.get(base_url, params=params)\n",
    "    \n",
    "#     print the name_address url, avoid doing for public github repos in order to avoid exposing key\n",
    "#     print(name_address.url)\n",
    "\n",
    "    # convert to json\n",
    "    name_address = name_address.json()\n",
    "# print(json.dumps(name_address, indent=4, sort_keys=True))\n",
    "\n",
    "    # Since some data may be missing we incorporate a try-except to skip any that are missing a data point.\n",
    "    try:\n",
    "        hotel_df.loc[index, \"Hotel Name\"] = name_address[\"results\"][0][\"name\"]\n",
    "\n",
    "    except (KeyError, IndexError):\n",
    "            print(\"Missing field/result... skipping.\")\n",
    "hotel_df.head()"
   ]
  },
  {
   "cell_type": "code",
   "execution_count": 13,
   "metadata": {},
   "outputs": [],
   "source": [
    "# NOTE: Do not change any of the code in this cell\n",
    "\n",
    "# Using the template add the hotel marks to the heatmap\n",
    "info_box_template = \"\"\"\n",
    "<dl>\n",
    "<dt>Name</dt><dd>{Hotel Name}</dd>\n",
    "<dt>City</dt><dd>{City}</dd>\n",
    "<dt>Country</dt><dd>{Country}</dd>\n",
    "</dl>\n",
    "\"\"\"\n",
    "# Store the DataFrame Row\n",
    "# NOTE: be sure to update with your DataFrame name\n",
    "hotel_info = [info_box_template.format(**row) for index, row in hotel_df.iterrows()]\n",
    "locations = hotel_df[[\"Latitude\", \"Longitude\"]]"
   ]
  },
  {
   "cell_type": "code",
   "execution_count": 14,
   "metadata": {},
   "outputs": [
    {
     "data": {
      "application/vnd.jupyter.widget-view+json": {
       "model_id": "fb45623493e64e9982c14435902f30c9",
       "version_major": 2,
       "version_minor": 0
      },
      "text/plain": [
       "Figure(layout=FigureLayout(height='420px'))"
      ]
     },
     "metadata": {},
     "output_type": "display_data"
    }
   ],
   "source": [
    "# syntax for marker layer (locations, hover_text='', label='', info_box_content=None, display_info_box=None)\n",
    "\n",
    "# Add marker layer ontop of heat map\n",
    "\n",
    "markers = gmaps.marker_layer(locations,info_box_content= hotel_info)\n",
    "# Add the layer to the map\n",
    "fig.add_layer(markers)\n",
    "fig.add_layer(heat_layer)\n",
    "\n",
    "# Display Map\n",
    "fig"
   ]
  },
  {
   "cell_type": "code",
   "execution_count": null,
   "metadata": {},
   "outputs": [],
   "source": []
  }
 ],
 "metadata": {
  "kernelspec": {
   "display_name": "Python 3",
   "language": "python",
   "name": "python3"
  },
  "language_info": {
   "codemirror_mode": {
    "name": "ipython",
    "version": 3
   },
   "file_extension": ".py",
   "mimetype": "text/x-python",
   "name": "python",
   "nbconvert_exporter": "python",
   "pygments_lexer": "ipython3",
   "version": "3.7.4"
  },
  "latex_envs": {
   "LaTeX_envs_menu_present": true,
   "autoclose": false,
   "autocomplete": true,
   "bibliofile": "biblio.bib",
   "cite_by": "apalike",
   "current_citInitial": 1,
   "eqLabelWithNumbers": true,
   "eqNumInitial": 1,
   "hotkeys": {
    "equation": "Ctrl-E",
    "itemize": "Ctrl-I"
   },
   "labels_anchors": false,
   "latex_user_defs": false,
   "report_style_numbering": false,
   "user_envs_cfg": false
  }
 },
 "nbformat": 4,
 "nbformat_minor": 2
}
